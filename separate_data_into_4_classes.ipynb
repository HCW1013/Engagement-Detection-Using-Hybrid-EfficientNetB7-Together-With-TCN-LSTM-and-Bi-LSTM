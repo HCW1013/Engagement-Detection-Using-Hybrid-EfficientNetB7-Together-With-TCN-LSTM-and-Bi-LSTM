{
  "nbformat": 4,
  "nbformat_minor": 0,
  "metadata": {
    "colab": {
      "provenance": []
    },
    "kernelspec": {
      "name": "python3",
      "display_name": "Python 3"
    },
    "language_info": {
      "name": "python"
    }
  },
  "cells": [
    {
      "cell_type": "code",
      "metadata": {
        "id": "KltEusTimhu8"
      },
      "source": [
        "import os\n",
        "import shutil\n",
        "import csv\n",
        "import sys\n",
        "\n",
        "csv_file = r\"D:\\Tasneem\\Master\\point\\study\\DAISEEsplitted\\AllLabels.csv\"\n",
        "existing_path_prefix = r\"D:\\Tasneem\\Master\\point\\study\\DAISEEsplitted\\remain\"\n",
        "new_path_prefix_0 = r\"D:\\Tasneem\\Master\\point\\study\\DAISEEsplitted\\0\"\n",
        "new_path_prefix_1 = r\"D:\\Tasneem\\Master\\point\\study\\DAISEEsplitted\\1\"\n",
        "new_path_prefix_2 = r\"D:\\Tasneem\\Master\\point\\study\\DAISEEsplitted\\2\"\n",
        "new_path_prefix_3 = r\"D:\\Tasneem\\Master\\point\\study\\DAISEEsplitted\\3\"\n",
        "\n",
        "for folderName in os.listdir(existing_path_prefix):\n",
        "    #if directory\n",
        "    if os.path.isdir(os.path.join(existing_path_prefix, folderName)):\n",
        "        #if not empty\n",
        "        if len(os.listdir(os.path.join(existing_path_prefix, folderName))) != 0:\n",
        "            for filename in os.listdir(os.path.join(existing_path_prefix, folderName)):\n",
        "                shutil.move(os.path.join(existing_path_prefix, folderName, filename), os.path.join(existing_path_prefix, filename))\n",
        "            os.rmdir(os.path.join(existing_path_prefix, folderName))\n",
        "    elif os.path.isfile(os.path.join(existing_path_prefix, folderName)):\n",
        "              print(\"file\")\n",
        "              continue\n",
        "\n",
        "with open(csv_file, 'r') as f:\n",
        "    reader = csv.reader(f)\n",
        "    for i, row in enumerate(reader):\n",
        "        if i == 0:\n",
        "            pass    # Skip header row\n",
        "        else:\n",
        "            filename, label = row\n",
        "            if label == \"0\":\n",
        "                new_filename = os.path.join(new_path_prefix_0, filename)\n",
        "                print(label, new_filename)\n",
        "            elif label == \"1\":\n",
        "                new_filename = os.path.join(new_path_prefix_1, filename)\n",
        "                print(label, new_filename)\n",
        "            elif label == \"2\":\n",
        "                new_filename = os.path.join(new_path_prefix_2, filename)\n",
        "                print(label, new_filename)\n",
        "            elif label == \"3\":\n",
        "                new_filename = os.path.join(new_path_prefix_3, filename)\n",
        "                print(label, new_filename)\n",
        "            else:\n",
        "                print(\"not found\")\n",
        "            old_filename = os.path.join(existing_path_prefix, filename)\n",
        "            exist = os.path.isfile(old_filename)\n",
        "            print(exist)\n",
        "            if exist:\n",
        "                shutil.move(old_filename, new_filename)\n",
        "            else:\n",
        "                print(\"no found\")\n",
        "                continue\n",
        ""
      ],
      "execution_count": null,
      "outputs": []
    }
  ]
}