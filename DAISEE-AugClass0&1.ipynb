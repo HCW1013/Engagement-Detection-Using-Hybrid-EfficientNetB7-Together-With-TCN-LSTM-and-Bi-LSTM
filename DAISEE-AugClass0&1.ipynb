{
  "nbformat": 4,
  "nbformat_minor": 0,
  "metadata": {
    "colab": {
      "provenance": []
    },
    "kernelspec": {
      "name": "python3",
      "display_name": "Python 3"
    },
    "language_info": {
      "name": "python"
    }
  },
  "cells": [
    {
      "cell_type": "code",
      "metadata": {
        "colab": {
          "base_uri": "https://localhost:8080/"
        },
        "id": "9H-Bpbon1cFI",
        "outputId": "f3ef2781-b1a0-4fe7-c29d-3fbd6ed52309"
      },
      "source": [
        "!pip install git+https://github.com/okankop/vidaug"
      ],
      "execution_count": null,
      "outputs": [
        {
          "output_type": "stream",
          "name": "stdout",
          "text": [
            "Collecting git+https://github.com/okankop/vidaug\n",
            "  Cloning https://github.com/okankop/vidaug to /tmp/pip-req-build-7mfzadad\n",
            "  Running command git clone -q https://github.com/okankop/vidaug /tmp/pip-req-build-7mfzadad\n"
          ]
        }
      ]
    },
    {
      "cell_type": "code",
      "metadata": {
        "colab": {
          "base_uri": "https://localhost:8080/"
        },
        "id": "6RmDWeAe7inv",
        "outputId": "0de0ee3b-01de-4a86-d527-5f162c2bb3e4"
      },
      "source": [
        "!pip install scikit-video"
      ],
      "execution_count": null,
      "outputs": [
        {
          "output_type": "stream",
          "name": "stdout",
          "text": [
            "Requirement already satisfied: scikit-video in /usr/local/lib/python3.7/dist-packages (1.1.11)\n",
            "Requirement already satisfied: pillow in /usr/local/lib/python3.7/dist-packages (from scikit-video) (7.1.2)\n",
            "Requirement already satisfied: numpy in /usr/local/lib/python3.7/dist-packages (from scikit-video) (1.19.5)\n",
            "Requirement already satisfied: scipy in /usr/local/lib/python3.7/dist-packages (from scikit-video) (1.4.1)\n"
          ]
        }
      ]
    },
    {
      "cell_type": "code",
      "metadata": {
        "id": "sF0zLKI1HBcm"
      },
      "source": [
        "import cv2\n",
        "import os\n",
        "from vidaug import augmentors as va\n",
        "from google.colab.patches import cv2_imshow\n",
        "import numpy\n",
        "import skvideo.io"
      ],
      "execution_count": null,
      "outputs": []
    },
    {
      "cell_type": "code",
      "metadata": {
        "id": "FX_GZnI5N9c0"
      },
      "source": [
        "class0Path = '/content/drive/MyDrive/colab/DAISEE/Train/0/'\n",
        "class1Path = '/content/drive/MyDrive/colab/DAISEE/Train/1/'\n",
        "augClass0Path = \"/content/drive/MyDrive/colab/AugDaisee/0/\"\n",
        "augClass1Path = \"/content/drive/MyDrive/colab/AugDaisee/1/\""
      ],
      "execution_count": null,
      "outputs": []
    },
    {
      "cell_type": "code",
      "metadata": {
        "id": "f5rTmdPX5Gws"
      },
      "source": [
        "def frames_extraction(video_path):\n",
        "    frames_list = []\n",
        "    seqCount = 1\n",
        "\n",
        "    vidObj = cv2.VideoCapture(video_path)\n",
        "\n",
        "    while seqCount <= 300:\n",
        "\n",
        "        success, image = vidObj.read()\n",
        "\n",
        "        if success:\n",
        "            frames_list.append(image)\n",
        "            seqCount += 1\n",
        "\n",
        "        else:\n",
        "            print(\"Defected frame\")\n",
        "            break\n",
        "\n",
        "    vidObj.release()\n",
        "    return frames_list"
      ],
      "execution_count": null,
      "outputs": []
    },
    {
      "cell_type": "code",
      "metadata": {
        "id": "IAWm3v67TDfC"
      },
      "source": [
        "\n",
        "#class 0\n",
        "# Upload the 46 video and apply 15 aug 1 by 1 on the 46 video ---> will get 46, ..., 230, 276, ..., 506, ..., 736, ..., 966, 1,012 video\n",
        "sometimes = lambda aug: va.Sometimes(0.50, aug) # Used to apply augmentor with 50% probability\n",
        "seq = va.Sequential([\n",
        "    va.Salt(),\n",
        "    va.Add(-20),\n",
        "    #va.Pepper(),\n",
        "    #va.Multiply(2),\n",
        "    #va.GaussianBlur(0.9),\n",
        "    #va.InvertColor(),\n",
        "    #va.ElasticTransformation(alpha=5, sigma=1),\n",
        "\n",
        "    #va.RandomShear(0.2,0.1),\n",
        "    #va.Salt(),\n",
        "    #va.Add(-20),\n",
        "    #va.Pepper(),\n",
        "    #va.Multiply(2),\n",
        "    #va.GaussianBlur(0.9),\n",
        "    #va.InvertColor(),\n",
        "    #va.ElasticTransformation(alpha=5, sigma=1),\n",
        "\n",
        "    #va.RandomShear(0.2,0.1),\n",
        "    #sometimes(va.HorizontalFlip()),\n",
        "    #va.Salt(),\n",
        "    #va.Add(-20),\n",
        "    #va.Pepper(),\n",
        "    #va.Multiply(2),\n",
        "    #va.GaussianBlur(0.9),\n",
        "    #va.InvertColor(),\n",
        "    #va.ElasticTransformation(alpha=5, sigma=1),\n",
        "\n",
        "    #sometimes(va.HorizontalFlip()),\n",
        "    #va.Salt(),\n",
        "    #va.Add(-20),\n",
        "    #va.Pepper(),\n",
        "    #va.Multiply(2),\n",
        "    #va.GaussianBlur(0.9),\n",
        "    #va.InvertColor(),\n",
        "    #va.ElasticTransformation(alpha=5, sigma=1),\n",
        "\n",
        "    #sometimes(va.HorizontalFlip()),\n",
        "])\n"
      ],
      "execution_count": null,
      "outputs": []
    },
    {
      "cell_type": "code",
      "metadata": {
        "id": "sFkJSdR5bdIm",
        "colab": {
          "base_uri": "https://localhost:8080/",
          "height": 69
        },
        "outputId": "ea3ea7de-6f53-4ac6-80f3-846e587f8457"
      },
      "source": [
        "'''\n",
        "#class 1\n",
        "#upload the 300 video and apply 3 aug one by one on the 300 --> to get 600, 900, 1,200 video\n",
        "sometimes = lambda aug: va.Sometimes(0.50, aug) # Used to apply augmentor with 50% probability\n",
        "seq = va.Sequential([\n",
        "    #va.RandomShear(0.2,0.1),\n",
        "\n",
        "    #sometimes(va.HorizontalFlip())\n",
        "\n",
        "    #va.RandomShear(0.2,0.1),\n",
        "    #sometimes(va.HorizontalFlip())\n",
        "])\n",
        "'''"
      ],
      "execution_count": null,
      "outputs": [
        {
          "output_type": "execute_result",
          "data": {
            "application/vnd.google.colaboratory.intrinsic+json": {
              "type": "string"
            },
            "text/plain": [
              "'\\n#class 1\\n#upload the 300 video and apply 3 aug one by one on the 300 --> to get 600, 900, 1,200 video\\nsometimes = lambda aug: va.Sometimes(0.50, aug) # Used to apply augmentor with 50% probability\\nseq = va.Sequential([ \\n    #va.RandomShear(0.2,0.1),\\n\\n    #sometimes(va.HorizontalFlip())\\n\\n    #va.RandomShear(0.2,0.1),\\n    #sometimes(va.HorizontalFlip())\\n])\\n'"
            ]
          },
          "metadata": {},
          "execution_count": 7
        }
      ]
    },
    {
      "cell_type": "code",
      "metadata": {
        "id": "2we2uOICq11p"
      },
      "source": [
        "#1. Apply class0 aug, one by one till reach 276, 552 and finally 1,104\n",
        "#2. Change classpath to be class1Path, instead of class0Path\n",
        "#3. Aug class1 to reach 600 video, then to reach 1,200 video\n",
        "#NB: at every aug check that right aug and augclass are uncommented + classPath, augClassPath and file name are selected correctly"
      ],
      "execution_count": null,
      "outputs": []
    },
    {
      "cell_type": "code",
      "metadata": {
        "id": "lIeQ2ZTjfDpW",
        "colab": {
          "base_uri": "https://localhost:8080/"
        },
        "outputId": "646c64b3-ab02-4576-e9a2-1930349a5786"
      },
      "source": [
        "classPath = class0Path\n",
        "#classPath = class1Path\n",
        "videos = os.listdir(classPath)\n",
        "for v in videos:\n",
        "    video = frames_extraction(os.path.join(classPath, v))\n",
        "    video_aug = seq(video)\n",
        "    video_aug = numpy.array(video_aug)\n",
        "    video_aug = video_aug.astype(numpy.uint8)\n",
        "\n",
        "    # \"aug00000-\" \"aug00001-\" \"aug00010-\" \"aug00011-\" \"aug00100-\" and copy 46\n",
        "    # \"aug00101-\" \"aug00110-\" \"aug00111-\" \"aug01000-\" \"aug01001-\"\n",
        "    # \"aug01010-\" \"aug01011-\" \"aug01100-\" \"aug01101-\" \"aug01110-\"\n",
        "    # \"aug01111-\" \"aug10000-\" \"aug10001-\" \"aug10010-\" \"aug10011-\" \"aug10100-\"\n",
        "    savedVideo = augClass0Path + \"aug00000-\" + v + \".mp4\"\n",
        "\n",
        "    # \"aug10101-\" \"aug10110-\" \"aug10111-\" and copy the 300 video\n",
        "    #savedVideo = augClass1Path + \"aug10111-\" + v + \".mp4\"\n",
        "\n",
        "    skvideo.io.vwrite(savedVideo, video_aug)\n",
        "    print(savedVideo)\n",
        "\n",
        "    #print(numpy.array(video).shape)\n",
        "    #print(video_aug.shape)\n",
        "    #cv2_imshow(video_aug[30])"
      ],
      "execution_count": null,
      "outputs": [
        {
          "output_type": "stream",
          "name": "stdout",
          "text": [
            "/content/drive/MyDrive/colab/AugDaisee/0/aug10100-5564630126.avi.mp4\n",
            "/content/drive/MyDrive/colab/AugDaisee/0/aug10100-2100551005.avi.mp4\n",
            "/content/drive/MyDrive/colab/AugDaisee/0/aug10100-1100412018.avi.mp4\n",
            "/content/drive/MyDrive/colab/AugDaisee/0/aug10100-1813740138.avi.mp4\n",
            "/content/drive/MyDrive/colab/AugDaisee/0/aug10100-2056010134.avi.mp4\n",
            "/content/drive/MyDrive/colab/AugDaisee/0/aug10100-303830149.mp4.mp4\n",
            "/content/drive/MyDrive/colab/AugDaisee/0/aug10100-1110031025.avi.mp4\n",
            "/content/drive/MyDrive/colab/AugDaisee/0/aug10100-1110031038.avi.mp4\n",
            "/content/drive/MyDrive/colab/AugDaisee/0/aug10100-1110031063.avi.mp4\n",
            "/content/drive/MyDrive/colab/AugDaisee/0/aug10100-3503610168.avi.mp4\n",
            "/content/drive/MyDrive/colab/AugDaisee/0/aug10100-2100532022.avi.mp4\n",
            "/content/drive/MyDrive/colab/AugDaisee/0/aug10100-2100602041.avi.mp4\n",
            "/content/drive/MyDrive/colab/AugDaisee/0/aug10100-3100751010.avi.mp4\n",
            "/content/drive/MyDrive/colab/AugDaisee/0/aug10100-3100751007.avi.mp4\n",
            "/content/drive/MyDrive/colab/AugDaisee/0/aug10100-2100582060.avi.mp4\n",
            "/content/drive/MyDrive/colab/AugDaisee/0/aug10100-2100582057.avi.mp4\n",
            "/content/drive/MyDrive/colab/AugDaisee/0/aug10100-2100582055.avi.mp4\n",
            "/content/drive/MyDrive/colab/AugDaisee/0/aug10100-2100582058.avi.mp4\n",
            "/content/drive/MyDrive/colab/AugDaisee/0/aug10100-2100582052.avi.mp4\n",
            "/content/drive/MyDrive/colab/AugDaisee/0/aug10100-2100582056.avi.mp4\n",
            "/content/drive/MyDrive/colab/AugDaisee/0/aug10100-2100582062.avi.mp4\n",
            "/content/drive/MyDrive/colab/AugDaisee/0/aug10100-4000301042.avi.mp4\n",
            "/content/drive/MyDrive/colab/AugDaisee/0/aug10100-4000301030.avi.mp4\n",
            "/content/drive/MyDrive/colab/AugDaisee/0/aug10100-1100131017.avi.mp4\n",
            "/content/drive/MyDrive/colab/AugDaisee/0/aug10100-4110211025.avi.mp4\n",
            "/content/drive/MyDrive/colab/AugDaisee/0/aug10100-4110211040.avi.mp4\n",
            "/content/drive/MyDrive/colab/AugDaisee/0/aug10100-1100152070.avi.mp4\n",
            "/content/drive/MyDrive/colab/AugDaisee/0/aug10100-1100171004.avi.mp4\n",
            "/content/drive/MyDrive/colab/AugDaisee/0/aug10100-1100171008.avi.mp4\n",
            "/content/drive/MyDrive/colab/AugDaisee/0/aug10100-4100302064.avi.mp4\n",
            "/content/drive/MyDrive/colab/AugDaisee/0/aug10100-3100822066.avi.mp4\n",
            "/content/drive/MyDrive/colab/AugDaisee/0/aug10100-3100821069.avi.mp4\n",
            "/content/drive/MyDrive/colab/AugDaisee/0/aug10100-4100302045.avi.mp4\n",
            "/content/drive/MyDrive/colab/AugDaisee/0/aug10100-4110211061.avi.mp4\n",
            "/content/drive/MyDrive/colab/AugDaisee/0/aug10100-5674960283.avi.mp4\n",
            "/content/drive/MyDrive/colab/AugDaisee/0/aug10100-3100821052.avi.mp4\n",
            "/content/drive/MyDrive/colab/AugDaisee/0/aug10100-4000301011.avi.mp4\n",
            "/content/drive/MyDrive/colab/AugDaisee/0/aug10100-3100822031.avi.mp4\n",
            "/content/drive/MyDrive/colab/AugDaisee/0/aug10100-4110211015.avi.mp4\n",
            "/content/drive/MyDrive/colab/AugDaisee/0/aug10100-3100821075.avi.mp4\n",
            "/content/drive/MyDrive/colab/AugDaisee/0/aug10100-4000222032.avi.mp4\n",
            "/content/drive/MyDrive/colab/AugDaisee/0/aug10100-4000301070.avi.mp4\n",
            "/content/drive/MyDrive/colab/AugDaisee/0/aug10100-4000301028.avi.mp4\n",
            "/content/drive/MyDrive/colab/AugDaisee/0/aug10100-3100821033.avi.mp4\n",
            "/content/drive/MyDrive/colab/AugDaisee/0/aug10100-4100302058.avi.mp4\n",
            "/content/drive/MyDrive/colab/AugDaisee/0/aug10100-5674960225.avi.mp4\n"
          ]
        }
      ]
    }
  ]
}